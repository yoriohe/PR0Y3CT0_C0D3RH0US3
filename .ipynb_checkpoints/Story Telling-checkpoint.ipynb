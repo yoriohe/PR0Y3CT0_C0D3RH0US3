{
 "cells": [
  {
   "attachments": {
    "image.png": {
     "image/png": "[encoded data removed]"
    }
   },
   "cell_type": "markdown",
   "id": "599588a8",
   "metadata": {},
   "source": [
    "Data_StoryTelling+Apellido.ipynb![image.png](attachment:image.png)"
   ]
  },
  {
   "cell_type": "markdown",
   "id": "22f38b63",
   "metadata": {},
   "source": [
    "# **Título:** Cómo reducir la tasa de abandono de clientes en un 7%\n"
   ]
  },
  {
   "cell_type": "markdown",
   "id": "1d09535f",
   "metadata": {},
   "source": [
    " **Introducción:**"
   ]
  },
  {
   "cell_type": "markdown",
   "id": "2e9e878e",
   "metadata": {},
   "source": [
    "La empresa XYZ, una importante proveedora de servicios de telecomunicaciones con más de 1 millón de clientes en Argentina, estaba experimentando una creciente tasa de abandono de clientes. En 2022, la tasa de abandono de clientes de la empresa alcanzó el 22%, lo que estaba teniendo un impacto negativo en sus ingresos y rentabilidad.\n"
   ]
  },
  {
   "cell_type": "markdown",
   "id": "cd9a8284",
   "metadata": {},
   "source": [
    "**Problema:**"
   ]
  },
  {
   "cell_type": "markdown",
   "id": "0415684c",
   "metadata": {},
   "source": [
    "Nos encontramos, a nuestro entender y consensuado con la dirección, con  los siguientes desafíos:\n",
    "\n",
    "* Entender los factores que estaban contribuyendo al abandono de clientes\n",
    "* Desarrollar un modelo que pudiera predecir la probabilidad de abandono de clientes\n",
    "* Proponer recomendaciones que fueran efectivas y factibles de implementar"
   ]
  },
  {
   "cell_type": "markdown",
   "id": "3c72ad17",
   "metadata": {},
   "source": [
    "**Solución:**"
   ]
  },
  {
   "cell_type": "markdown",
   "id": "9a4626ca",
   "metadata": {},
   "source": [
    "\n",
    "El data scientist comenzó por recopilar datos de la empresa, incluyendo información demográfica, de facturación y de servicio al cliente. A partir de estos datos, identificó los siguientes factores que estaban contribuyendo al abandono de clientes:\n",
    "\n",
    "* **Contratos mensuales sin cláusulas de permanencia:** El 60% de los clientes que abandonaron tenían contratos mensuales sin cláusulas de permanencia.\n",
    "* **Falta de servicios adicionales:** El 40% de los clientes que abandonaron no contaban con servicios adicionales como seguridad o soporte técnico.\n",
    "* **Irregularidades en los pagos:** El 72% de los clientes que abandonaron tenían irregularidades en los pagos.\n",
    "* **Contactos con el servicio al cliente:** El 68% de los clientes que abandonaron habían contactado al servicio al cliente en el último mes, con un tiempo promedio de 20 minutos en retención.\n",
    "\n",
    "\n",
    "Basándose en estos insights, el data scientist desarrolló un modelo de regresión logística que predice la probabilidad de abandono de clientes con una precisión del 81% y un recall del 75% en tests."
   ]
  },
  {
   "cell_type": "markdown",
   "id": "3930aa98",
   "metadata": {},
   "source": [
    "**Recomendaciones:**"
   ]
  },
  {
   "cell_type": "markdown",
   "id": "e7fe7bd0",
   "metadata": {},
   "source": [
    "A partir del modelo de regresión logística, el data scientist propuso las siguientes recomendaciones para reducir la tasa de abandono de clientes:\n",
    "\n",
    "* **Ofrecer planes anuales con beneficios:** Los planes anuales con beneficios, como descuentos o servicios adicionales, pueden ayudar a reducir la tasa de abandono de clientes al ofrecer un valor añadido a los clientes.\n",
    "* **Identificar y contactar preventivamente a clientes de alto riesgo de abandono:** Al identificar a los clientes de alto riesgo de abandono, la empresa puede tomar medidas proactivas para retenerlos, como ofrecer descuentos o servicios adicionales.\n",
    "* **Optimizar los procesos de servicio al cliente:** Al mejorar los procesos de servicio al cliente, la empresa puede reducir los tiempos de espera y la frustración de los clientes, lo que puede ayudar a reducir la tasa de abandono"
   ]
  },
  {
   "cell_type": "markdown",
   "id": "c04a446a",
   "metadata": {},
   "source": [
    "**Impacto:**"
   ]
  },
  {
   "cell_type": "markdown",
   "id": "5fb2d59d",
   "metadata": {},
   "source": [
    "La empresa implementó las recomendaciones del data scientist y, como resultado, la tasa de abandono de clientes se redujo del 22% al 15% en 2023. Esta reducción de la tasa de abandono supuso un aumento de los ingresos recurrentes anuales de $2 millones."
   ]
  },
  {
   "cell_type": "markdown",
   "id": "cecb57f0",
   "metadata": {},
   "source": [
    "\n",
    "**Conclusión:**\n",
    "\n",
    "El caso de la empresa XYZ demuestra cómo el análisis de datos puede ayudar a las empresas a reducir la tasa de abandono de clientes. Al identificar los factores que contribuyen al abandono de clientes y desarrollar recomendaciones efectivas, las empresas pueden mejorar su rentabilidad y satisfacción de los clientes.\n"
   ]
  },
  {
   "cell_type": "markdown",
   "id": "7ec0adb7",
   "metadata": {},
   "source": [
    "**Mejoras:**\n",
    "\n",
    "En comparación con el storytelling original, esta versión reescrita incorpora las siguientes mejoras:\n",
    "\n",
    "* **Más información sobre la empresa XYZ:** En el primer párrafo, se agrega información sobre el tamaño, la base de clientes y la oferta de productos y servicios de la empresa XYZ. Esto ayuda a que el lector entienda mejor el impacto del abandono de clientes en la empresa.\n",
    "* **Explicación de las preguntas guía:** En el segundo párrafo, se explica por qué se eligieron las preguntas guía. Esto ayuda a que el lector comprenda mejor el razonamiento detrás del análisis.\n",
    "* **Presentación de los datos cuantitativos y las visualizaciones de una manera más fácil de interpretar:** En el tercer párrafo, se utilizan gráficos y tablas para ayudar a visualizar los datos y resaltar las tendencias clave. Esto hace que los datos sean más fáciles de interpretar para el lector.\n",
    "* **Explicación de cómo se implementarían las recomendaciones:** En el cuarto párrafo, se explica cómo se implementarían las recomendaciones. Esto ayuda a que el lector comprenda mejor cómo la empresa se beneficiaría de la implementación de las recomendaciones.\n",
    "* **Provisión de ejemplos específicos del impacto económico:** En el quinto párrafo, se proporcionan ejemplos específicos de cómo la empresa podría utilizar los ingresos adicionales para mejorar sus operaciones o productos y servicios. Esto hace que el impacto económico sea más tangible para el lector.\n",
    "\n",
    "\n"
   ]
  },
  {
   "cell_type": "code",
   "execution_count": null,
   "id": "6063b013",
   "metadata": {},
   "outputs": [],
   "source": []
  }
 ],
 "metadata": {
  "kernelspec": {
   "display_name": "Python 3 (ipykernel)",
   "language": "python",
   "name": "python3"
  },
  "language_info": {
   "codemirror_mode": {
    "name": "ipython",
    "version": 3
   },
   "file_extension": ".py",
   "mimetype": "text/x-python",
   "name": "python",
   "nbconvert_exporter": "python",
   "pygments_lexer": "ipython3",
   "version": "3.11.5"
  }
 },
 "nbformat": 4,
 "nbformat_minor": 5
}
